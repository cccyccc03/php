{
  "nbformat": 4,
  "nbformat_minor": 0,
  "metadata": {
    "colab": {
      "provenance": [],
      "toc_visible": true,
      "authorship_tag": "ABX9TyPpsX6XBIC+mYDfm7yJN41R",
      "include_colab_link": true
    },
    "kernelspec": {
      "name": "python3",
      "display_name": "Python 3"
    },
    "language_info": {
      "name": "python"
    }
  },
  "cells": [
    {
      "cell_type": "markdown",
      "metadata": {
        "id": "view-in-github",
        "colab_type": "text"
      },
      "source": [
        "<a href=\"https://colab.research.google.com/github/cccyccc03/php/blob/main/Untitled2.ipynb\" target=\"_parent\"><img src=\"https://colab.research.google.com/assets/colab-badge.svg\" alt=\"Open In Colab\"/></a>"
      ]
    },
    {
      "cell_type": "code",
      "execution_count": 8,
      "metadata": {
        "colab": {
          "base_uri": "https://localhost:8080/"
        },
        "id": "RhGA_ptIBYtq",
        "outputId": "7b865842-44fa-4d33-8b94-bb676dda8457"
      },
      "outputs": [
        {
          "output_type": "stream",
          "name": "stdout",
          "text": [
            "訓練資料正確率: 1.0\n",
            "測試資料正確率: 0.8888888888888888\n",
            "標準答案: [1 2 1 2 0 0 1 0 2 2 2 0 2 2 1 1 0 0 0 1 1 0 1 1 1 0 0 2 1 2 0 2 1 2 2 2 0\n",
            " 2 0 1 2 1 1 1 1]\n",
            "預測答案: [1 2 1 2 0 0 1 0 2 2 1 0 2 2 1 1 0 0 0 1 1 0 1 1 1 0 0 1 2 1 0 2 1 2 2 2 0\n",
            " 2 0 1 1 1 1 1 1]\n"
          ]
        }
      ],
      "source": [
        "from sklearn.ensemble import RandomForestClassifier\n",
        "from sklearn.datasets import load_iris\n",
        "from sklearn.model_selection import train_test_split\n",
        "\n",
        "#讀資料\n",
        "iris = load_iris()\n",
        "iris_data = iris.data\n",
        "iris_label = iris.target\n",
        "\n",
        "#切割資料\n",
        "train_data, test_data, train_label, test_label = train_test_split(iris_data, iris_label, test_size = 0.3)\n",
        "\n",
        "#進行訓練\n",
        "clf = RandomForestClassifier(n_estimators=10, max_depth=4)\n",
        "iris_clf = clf.fit(train_data, train_label)\n",
        "print(\"訓練資料正確率:\",clf.score(train_data,train_label)) # 訓練資料正確率\n",
        "print(\"測試資料正確率:\",clf.score(test_data, test_label)) # 測試資料正確率\n",
        "\n",
        "predict=clf.predict(test_data) # 預測\n",
        "print(\"標準答案:\",test_label) # 標準答案\n",
        "print(\"預測答案:\",predict) # 預測答案"
      ]
    }
  ]
}